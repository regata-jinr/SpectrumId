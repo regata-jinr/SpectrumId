{
 "cells": [
  {
   "cell_type": "markdown",
   "metadata": {},
   "source": [
    "<h1 align=center>Теория гамма-спектрометрии</h1>"
   ]
  },
  {
   "cell_type": "markdown",
   "metadata": {
    "heading_collapsed": true
   },
   "source": [
    "## Общие понятия\n",
    "### Спектрометрия\n",
    "Область физики и техники, разрабатывающая теорию, методы измерении и обработки спектров.\n",
    "### Радиоакти́вный распа́д\n",
    "(от лат. radius «луч» и āctīvus «действенный») — спонтанное изменение состава (заряда Z, массового числа A) или внутреннего строения нестабильных атомных ядер (нуклидов) путём испускания элементарных частиц, гамма-квантов и/или ядерных фрагментов.\n",
    "#### Альфа\n",
    "Альфа-распадом называют самопроизвольный распад атомного ядра на дочернее ядро и α-частицу (ядро атома 4He). \n",
    "#### Бета\n",
    "Бета-распад — это радиоактивный распад, сопровождающийся испусканием из ядра электрона и электронного антинейтрино. \n"
   ]
  },
  {
   "cell_type": "markdown",
   "metadata": {
    "heading_collapsed": true
   },
   "source": [
    "## Гамма-излучение ядер\n",
    " Явление γ-излучения ядер состоит в том, что ядро (A,Z) испускает g квант без изменения массового числа А и заряда ядра Z. Испускание γ-излучения обычно происходит после α- или β-распадов атомных ядер, если образовавшееся ядро образуется в возбужденном состоянии. "
   ]
  },
  {
   "cell_type": "markdown",
   "metadata": {},
   "source": [
    "## Детекторы для гамма-спектрометрии\n",
    " В детекторах энергии и интенсивности гамма-квантов определяются не непосредственно, а с помощью вторичных заряженных частиц (электронов и позитронов), которые возникают в результате взаимодействия детектируемых гамма-квантов с веществом детектора.\n",
    "     Когда гамма-квант попадает в детектор, заряженные частицы образуются в результате трех процессов: фотоэффекта, эффекта Комптона и образования электрон-позитронных пар. \n",
    "### Фотоэффект\n",
    "### Эффект Комптона\n",
    "### Образование электрон-позитронных пар\n"
   ]
  },
  {
   "cell_type": "code",
   "execution_count": null,
   "metadata": {},
   "outputs": [],
   "source": []
  }
 ],
 "metadata": {
  "hide_input": false,
  "kernelspec": {
   "display_name": "ROOT C++",
   "language": "c++",
   "name": "root"
  },
  "language_info": {
   "codemirror_mode": "text/x-c++src",
   "file_extension": ".C",
   "mimetype": " text/x-c++src",
   "name": "c++"
  },
  "latex_envs": {
   "LaTeX_envs_menu_present": true,
   "autoclose": false,
   "autocomplete": true,
   "bibliofile": "biblio.bib",
   "cite_by": "apalike",
   "current_citInitial": 1,
   "eqLabelWithNumbers": true,
   "eqNumInitial": 1,
   "hotkeys": {
    "equation": "Ctrl-E",
    "itemize": "Ctrl-I"
   },
   "labels_anchors": false,
   "latex_user_defs": false,
   "report_style_numbering": false,
   "user_envs_cfg": false
  },
  "toc": {
   "base_numbering": 1,
   "nav_menu": {},
   "number_sections": true,
   "sideBar": true,
   "skip_h1_title": true,
   "title_cell": "Table of Contents",
   "title_sidebar": "Contents",
   "toc_cell": false,
   "toc_position": {},
   "toc_section_display": true,
   "toc_window_display": false
  },
  "varInspector": {
   "cols": {
    "lenName": 16,
    "lenType": 16,
    "lenVar": 40
   },
   "kernels_config": {
    "python": {
     "delete_cmd_postfix": "",
     "delete_cmd_prefix": "del ",
     "library": "var_list.py",
     "varRefreshCmd": "print(var_dic_list())"
    },
    "r": {
     "delete_cmd_postfix": ") ",
     "delete_cmd_prefix": "rm(",
     "library": "var_list.r",
     "varRefreshCmd": "cat(var_dic_list()) "
    }
   },
   "types_to_exclude": [
    "module",
    "function",
    "builtin_function_or_method",
    "instance",
    "_Feature"
   ],
   "window_display": false
  }
 },
 "nbformat": 4,
 "nbformat_minor": 2
}
