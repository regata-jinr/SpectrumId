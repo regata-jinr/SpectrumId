{
 "cells": [
  {
   "cell_type": "markdown",
   "metadata": {},
   "source": [
    "<h1 align=center>Заметки к SpectrumId</h1>"
   ]
  },
  {
   "cell_type": "markdown",
   "metadata": {},
   "source": [
    "## Адаптация peakdeco\n",
    "МГУшная програмулина, написано коряво, разобраться тяжело. Делает поиск пиков на основании TSpectrum root, gsl, Minuit2. Точнее, пока не уверен засчет чего конкретно делается поиск пиков. Судя по описанию две возможности использовать TSpectrum и авторский алгоритм основанный изначально для поиска фона. Попробуем его разобрать.\n",
    "\n",
    "### Автор основывается на распределении Пуассона\n",
    "Не очень понятно зачем. Сравним его с Гауссовым распределением:\n"
   ]
  },
  {
   "cell_type": "code",
   "execution_count": 1,
   "metadata": {
    "ExecuteTime": {
     "end_time": "2018-10-31T13:30:19.857502Z",
     "start_time": "2018-10-31T13:30:19.407458Z"
    }
   },
   "outputs": [],
   "source": [
    "#include \"TRandom.h\"\n",
    "#include \"TH1D.h\"\n",
    "#include \"TCanvas.h\"\n",
    "#include <sstream>\n",
    "\n",
    "auto h = new TH1D(); //PoisGen(10, 10000);\n",
    "auto f = new TF1(\"gaus\",\"[0]*TMath::Gaus(x,[1],[2])\",-5,20);"
   ]
  },
  {
   "cell_type": "code",
   "execution_count": 2,
   "metadata": {
    "ExecuteTime": {
     "end_time": "2018-10-31T13:30:19.964026Z",
     "start_time": "2018-10-31T13:30:19.861934Z"
    }
   },
   "outputs": [],
   "source": [
    "TH1D* PoisGen(int k, int n) {\n",
    "\n",
    "  auto r = new TRandom();\n",
    "  \n",
    "  std::stringstream tit;\n",
    "  tit << \"PoisonDistr(\" << k << \"). Size=\" << n;\n",
    "  \n",
    "  auto gr = new TH1D(tit.str().c_str(), tit.str().c_str(), n, -k/2,2*k);\n",
    "    for (auto i = 0; i < n; ++i)\n",
    "      gr->Fill(r->PoissonD(k));    \n",
    "    \n",
    "    return gr;\n",
    "}\n"
   ]
  },
  {
   "cell_type": "code",
   "execution_count": 9,
   "metadata": {
    "ExecuteTime": {
     "end_time": "2018-10-31T13:38:48.571112Z",
     "start_time": "2018-10-31T13:38:48.441330Z"
    }
   },
   "outputs": [
    {
     "data": {
      "image/png": "[encoded data removed]",
      "text/plain": [
       "<IPython.core.display.Image object>"
      ]
     },
     "metadata": {},
     "output_type": "display_data"
    },
    {
     "name": "stderr",
     "output_type": "stream",
     "text": [
      "Warning in <TROOT::Append>: Replacing existing TH1: PoisonDistr(10). Size=10000 (Potential memory leak).\n"
     ]
    }
   ],
   "source": [
    "h = PoisGen(10, 10000);\n",
    "f->SetParameters(1300,9.4, 3.14);\n",
    "f->SetLineColor(2);\n",
    "//h->Fit(f);\n",
    "f->Draw(\"same\");\n",
    "c1->Draw()"
   ]
  },
  {
   "cell_type": "markdown",
   "metadata": {
    "ExecuteTime": {
     "end_time": "2018-10-31T13:24:12.585796Z",
     "start_time": "2018-10-31T13:24:12.479952Z"
    }
   },
   "source": [
    "Интересно, что автоматический фит(синяя линия) так и не может идеально подогнать как вручную(красная). В любом случае, отлично видно, что распределение пуассона прекрасно фитируется гауссовым, то есть начиная с каких-то чисел заменимо, при sigma = sqrt(avg) в нашем случае точно. Зачем тогда использовать пуассона? Более того, в распределении Гаусса мы имеем два параметра для фитирования пика, следовательно можем сделать это точнее. Еще один очевидный факт, который хорошо просматривается здесь. Дисперсия не равна FWHM:"
   ]
  },
  {
   "cell_type": "code",
   "execution_count": 14,
   "metadata": {
    "ExecuteTime": {
     "end_time": "2018-10-31T13:43:16.083832Z",
     "start_time": "2018-10-31T13:43:15.952597Z"
    }
   },
   "outputs": [
    {
     "data": {
      "image/png": "[encoded data removed]",
      "text/plain": [
       "<IPython.core.display.Image object>"
      ]
     },
     "metadata": {},
     "output_type": "display_data"
    },
    {
     "name": "stderr",
     "output_type": "stream",
     "text": [
      "Warning in <TROOT::Append>: Replacing existing TH1: PoisonDistr(100). Size=10000 (Potential memory leak).\n"
     ]
    }
   ],
   "source": [
    "h = PoisGen(100, 10000);\n",
    "h->Draw();\n",
    "c1->Draw();    "
   ]
  },
  {
   "cell_type": "markdown",
   "metadata": {
    "ExecuteTime": {
     "end_time": "2018-10-31T13:57:14.658822Z",
     "start_time": "2018-10-31T13:57:14.537849Z"
    }
   },
   "source": [
    "## Фитирование фона\n",
    "\n",
    "Итак у нас есть три алгоритма:\n",
    "* авторский (peakdeco)\n",
    "* TSpectrum\n",
    "* Злоказов (не уверен, что он говорит именно про фон)\n",
    "Для начала давайте разберемся что это за задача и зачем она нужна:\n",
    "### Цель фитирования фона\n",
    "### Типы фонов\n",
    "### Подходы и методы фитирования фона"
   ]
  },
  {
   "cell_type": "code",
   "execution_count": null,
   "metadata": {},
   "outputs": [],
   "source": []
  }
 ],
 "metadata": {
  "hide_input": false,
  "kernelspec": {
   "display_name": "ROOT C++",
   "language": "c++",
   "name": "root"
  },
  "language_info": {
   "codemirror_mode": "text/x-c++src",
   "file_extension": ".C",
   "mimetype": " text/x-c++src",
   "name": "c++"
  },
  "latex_envs": {
   "LaTeX_envs_menu_present": true,
   "autoclose": false,
   "autocomplete": true,
   "bibliofile": "biblio.bib",
   "cite_by": "apalike",
   "current_citInitial": 1,
   "eqLabelWithNumbers": true,
   "eqNumInitial": 1,
   "hotkeys": {
    "equation": "Ctrl-E",
    "itemize": "Ctrl-I"
   },
   "labels_anchors": false,
   "latex_user_defs": false,
   "report_style_numbering": false,
   "user_envs_cfg": false
  },
  "toc": {
   "base_numbering": 1,
   "nav_menu": {},
   "number_sections": true,
   "sideBar": true,
   "skip_h1_title": true,
   "title_cell": "Table of Contents",
   "title_sidebar": "Contents",
   "toc_cell": false,
   "toc_position": {},
   "toc_section_display": true,
   "toc_window_display": false
  },
  "varInspector": {
   "cols": {
    "lenName": 16,
    "lenType": 16,
    "lenVar": 40
   },
   "kernels_config": {
    "python": {
     "delete_cmd_postfix": "",
     "delete_cmd_prefix": "del ",
     "library": "var_list.py",
     "varRefreshCmd": "print(var_dic_list())"
    },
    "r": {
     "delete_cmd_postfix": ") ",
     "delete_cmd_prefix": "rm(",
     "library": "var_list.r",
     "varRefreshCmd": "cat(var_dic_list()) "
    }
   },
   "types_to_exclude": [
    "module",
    "function",
    "builtin_function_or_method",
    "instance",
    "_Feature"
   ],
   "window_display": false
  }
 },
 "nbformat": 4,
 "nbformat_minor": 2
}
